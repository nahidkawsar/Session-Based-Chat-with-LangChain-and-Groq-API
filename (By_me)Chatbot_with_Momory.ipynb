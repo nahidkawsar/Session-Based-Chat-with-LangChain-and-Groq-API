{
 "cells": [
  {
   "cell_type": "markdown",
   "metadata": {},
   "source": [
    "# Step 1: Load Environment Variables"
   ]
  },
  {
   "cell_type": "code",
   "execution_count": 1,
   "metadata": {},
   "outputs": [],
   "source": [
    "import os\n",
    "from dotenv import load_dotenv\n",
    "\n",
    "# Load environment variables\n",
    "load_dotenv()\n",
    "\n",
    "# Retrieve the API key\n",
    "groq_api_key = os.getenv(\"GROQ_API_KEY\")\n"
   ]
  },
  {
   "cell_type": "markdown",
   "metadata": {},
   "source": [
    "# Step 2: Initialize the Model"
   ]
  },
  {
   "cell_type": "code",
   "execution_count": 2,
   "metadata": {},
   "outputs": [],
   "source": [
    "from langchain_groq import ChatGroq\n",
    "\n",
    "# Initialize the ChatGroq model\n",
    "model = ChatGroq(model=\"Gemma2-9b-It\", groq_api_key=groq_api_key)\n"
   ]
  },
  {
   "cell_type": "markdown",
   "metadata": {},
   "source": [
    "# Step 3: Set Up Session History Store"
   ]
  },
  {
   "cell_type": "code",
   "execution_count": 3,
   "metadata": {},
   "outputs": [],
   "source": [
    "from langchain_community.chat_message_histories import ChatMessageHistory # ChatMessageHistory is used to manage chat message histories in a session.\n",
    "from langchain_core.chat_history import BaseChatMessageHistory  # BaseChatMessageHistory serves as a base class for all chat message history management classes.\n",
    "from langchain_core.runnables.history import RunnableWithMessageHistory # RunnableWithMessageHistory wraps a runnable (e.g., a model) with the capability to manage its message history.\n",
    "\n",
    "\n",
    "\n",
    "\n",
    "store = {}  # Dictionary to store session-specific chat histories\n",
    "\n",
    "\n",
    "# Function to retrieve or initialize the chat history for a specific session\n",
    "def get_session_history(session_id: str) -> BaseChatMessageHistory:\n",
    "    \n",
    "    if session_id not in store:  # Check if the session ID exists in the store\n",
    "        store[session_id] = ChatMessageHistory()  # If not, initialize a new ChatMessageHistory object and assign it to the session ID\n",
    "    return store[session_id]  # Return the chat message history object for the session\n",
    "\n",
    "\n",
    "\n",
    "\n",
    "# Wrapping the model with message history functionality.This allows the model to maintain and access session-specific chat histories.\n",
    "with_message_history = RunnableWithMessageHistory(model, get_session_history)\n"
   ]
  },
  {
   "cell_type": "markdown",
   "metadata": {},
   "source": [
    "# Step 4: Create a Prompt Template"
   ]
  },
  {
   "cell_type": "code",
   "execution_count": 4,
   "metadata": {},
   "outputs": [],
   "source": [
    "from langchain_core.prompts import ChatPromptTemplate,MessagesPlaceholder\n",
    "prompt = ChatPromptTemplate.from_messages(\n",
    "    [\n",
    "        (\n",
    "            \"system\",\n",
    "            \"Respons in Such a way that you are a {role}.\",  # Rule\n",
    "            \n",
    "        ),\n",
    "        MessagesPlaceholder(variable_name=\"messages\"),\n",
    "    ]\n",
    ")\n",
    "\n",
    "chain = prompt | model"
   ]
  },
  {
   "cell_type": "markdown",
   "metadata": {},
   "source": [
    "# Step 5: Wrap the Model with Session-Specific History"
   ]
  },
  {
   "cell_type": "code",
   "execution_count": 5,
   "metadata": {},
   "outputs": [],
   "source": [
    "from langchain_core.runnables.history import RunnableWithMessageHistory\n",
    "\n",
    "with_message_history=RunnableWithMessageHistory(\n",
    "    chain,\n",
    "    get_session_history,\n",
    "    input_messages_key=\"messages\"\n",
    ")"
   ]
  },
  {
   "cell_type": "markdown",
   "metadata": {},
   "source": [
    "# Step 6: Example Usage"
   ]
  },
  {
   "cell_type": "code",
   "execution_count": 10,
   "metadata": {},
   "outputs": [
    {
     "data": {
      "text/plain": [
       "'নমস্কার, নাহিদ! 👋\\n\\n(Hello, Nahid!) \\n\\nWhat can I translate for you? 😊  \\n\\n'"
      ]
     },
     "execution_count": 10,
     "metadata": {},
     "output_type": "execute_result"
    }
   ],
   "source": [
    "from langchain_core.messages import HumanMessage\n",
    "config = {\"configurable\": {\"session_id\": \"chat1\"}}\n",
    "repsonse=with_message_history.invoke(\n",
    "    {'messages': [HumanMessage(content=\"Hi,I am Nahid\")],\"role\":\"English to Bangla Tanslator\"},\n",
    "    config=config\n",
    ")\n",
    "repsonse.content"
   ]
  },
  {
   "cell_type": "code",
   "execution_count": 11,
   "metadata": {},
   "outputs": [
    {
     "data": {
      "text/plain": [
       "\"আপনি বাংলাদেশ থেকে আসছেন!  🇧🇩\\n\\n(You are from Bangladesh!)  \\n\\n  Welcome! Is there anything you'd like me to translate?  \\n\\n\\n\\n\""
      ]
     },
     "execution_count": 11,
     "metadata": {},
     "output_type": "execute_result"
    }
   ],
   "source": [
    "repsonse=with_message_history.invoke(\n",
    "    {'messages': [HumanMessage(content=\"I am From Bangladesh\")],\"role\":\"English to Bangla Tanslator\"},\n",
    "    config=config\n",
    ")\n",
    "repsonse.content"
   ]
  },
  {
   "cell_type": "code",
   "execution_count": 12,
   "metadata": {},
   "outputs": [
    {
     "data": {
      "text/plain": [
       "'আপনি নোয়াখালী বিজ্ঞান ও প্রযুক্তি বিশ্ববিদ্যালয় থেকে!  🏫\\n\\n(You are from Noakhali Science and Technology University!)\\n\\n  \\n\\nWhat can I help you translate today? 😊\\n'"
      ]
     },
     "execution_count": 12,
     "metadata": {},
     "output_type": "execute_result"
    }
   ],
   "source": [
    "repsonse=with_message_history.invoke(\n",
    "    {'messages': [HumanMessage(content=\"I am From Noakhali Science And Technology University\")],\"role\":\"English to Bangla Tanslator\"},\n",
    "    config=config\n",
    ")\n",
    "repsonse.content"
   ]
  },
  {
   "cell_type": "code",
   "execution_count": 13,
   "metadata": {},
   "outputs": [
    {
     "data": {
      "text/plain": [
       "\"From what you've told me, I know:\\n\\n* **Your name is Nahid.**\\n* **You are from Bangladesh.**\\n* **You are a student at Noakhali Science and Technology University.**\\n\\nIs there anything else you'd like to share? 😊  I'm here to learn more! \\n\\n\\n\\n\\n\""
      ]
     },
     "execution_count": 13,
     "metadata": {},
     "output_type": "execute_result"
    }
   ],
   "source": [
    "repsonse=with_message_history.invoke(\n",
    "    {'messages': [HumanMessage(content=\"what do you know about me?\")],\"role\":\"English to Bangla Tanslator\"},\n",
    "    config=config\n",
    ")\n",
    "repsonse.content"
   ]
  },
  {
   "cell_type": "code",
   "execution_count": null,
   "metadata": {},
   "outputs": [],
   "source": []
  }
 ],
 "metadata": {
  "kernelspec": {
   "display_name": "llmenv",
   "language": "python",
   "name": "python3"
  },
  "language_info": {
   "codemirror_mode": {
    "name": "ipython",
    "version": 3
   },
   "file_extension": ".py",
   "mimetype": "text/x-python",
   "name": "python",
   "nbconvert_exporter": "python",
   "pygments_lexer": "ipython3",
   "version": "3.13.0"
  }
 },
 "nbformat": 4,
 "nbformat_minor": 2
}
